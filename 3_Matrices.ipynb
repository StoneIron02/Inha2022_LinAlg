{
 "cells": [
  {
   "cell_type": "code",
   "execution_count": 1,
   "id": "136b684b",
   "metadata": {},
   "outputs": [],
   "source": [
    "import numpy as np"
   ]
  },
  {
   "cell_type": "code",
   "execution_count": 2,
   "id": "7ba52721",
   "metadata": {},
   "outputs": [
    {
     "name": "stdout",
     "output_type": "stream",
     "text": [
      "[1 5 2]\n",
      "(3, 3)\n",
      "(3, 1)\n",
      "(1, 2)\n",
      "3\n",
      "5\n",
      "[2 5 8]\n",
      "[8 3 0]\n"
     ]
    }
   ],
   "source": [
    "A = np.array([[1,4,7],[2,5,8],[6,3,2]])\n",
    "B = np.array([[2],[5],[8]])\n",
    "C = np.array([[-4,9]])\n",
    "D = np.array([[2,4,8,4],[4,8,3,1],[7,3,0,5]])\n",
    "\n",
    "print(np.diag(A))\n",
    "print(A.shape)\n",
    "print(B.shape)\n",
    "print(C.shape)\n",
    "print(D[1,2])\n",
    "print(D[2,3])\n",
    "print(A[1,])\n",
    "print(D[:,2])"
   ]
  },
  {
   "cell_type": "code",
   "execution_count": 3,
   "id": "55ed2a25",
   "metadata": {},
   "outputs": [
    {
     "name": "stdout",
     "output_type": "stream",
     "text": [
      "[[ 5 11  6 12  5]\n",
      " [18 14  3  7  4]]\n",
      "[[4 6 2 9 3]\n",
      " [9 7 1 2 4]]\n",
      "[[ 4 20 16 12  8]\n",
      " [36 28  8 20  0]]\n",
      "[[ 4 20 16 12  8]\n",
      " [36 28  8 20  0]]\n",
      "[[31 21]\n",
      " [63 57]]\n",
      "[[31 21]\n",
      " [63 57]]\n",
      "[[31 21]\n",
      " [63 57]]\n"
     ]
    }
   ],
   "source": [
    "A = np.array([[1,5,4,3,2],[9,7,2,5,0]])\n",
    "B = np.array([[4,6,2,9,3],[9,7,1,2,4]])\n",
    "\n",
    "# 합, 차\n",
    "C = A+B\n",
    "print(C)\n",
    "D = A-B\n",
    "print(B)\n",
    "\n",
    "# 스칼라곱\n",
    "print(4*A)\n",
    "print(A*4)\n"
   ]
  },
  {
   "cell_type": "code",
   "execution_count": 4,
   "id": "a60ae7e1",
   "metadata": {},
   "outputs": [
    {
     "name": "stdout",
     "output_type": "stream",
     "text": [
      "[[31 21]\n",
      " [63 57]]\n",
      "[[31 21]\n",
      " [63 57]]\n",
      "[[31 21]\n",
      " [63 57]]\n"
     ]
    }
   ],
   "source": [
    "# 행렬곱\n",
    "A = np.array([[1,2,3],[4,2,7]])\n",
    "B = np.array([[4,8],[6,2],[5,3]])\n",
    "\n",
    "print(A@B)\n",
    "print(np.matmul(A, B))\n",
    "print(np.dot(A, B))"
   ]
  },
  {
   "cell_type": "code",
   "execution_count": 5,
   "id": "e5f745f3",
   "metadata": {},
   "outputs": [
    {
     "name": "stdout",
     "output_type": "stream",
     "text": [
      "[[31. 21.]\n",
      " [63. 47.]]\n",
      "[[31. 21.]\n",
      " [63. 47.]]\n",
      "[[31. 21.]\n",
      " [63. 47.]]\n",
      "[[31. 21.]\n",
      " [63. 47.]]\n"
     ]
    }
   ],
   "source": [
    "# 항등원\n",
    "A = np.eye(2)\n",
    "B = np.array([[31, 21],[63, 47]])\n",
    "\n",
    "print(A@B)\n",
    "print(np.matmul(A, B))\n",
    "\n",
    "print(B@A)\n",
    "print(np.matmul(B, A))"
   ]
  },
  {
   "cell_type": "code",
   "execution_count": 6,
   "id": "342f851d",
   "metadata": {},
   "outputs": [
    {
     "name": "stdout",
     "output_type": "stream",
     "text": [
      "[[ 1  4]\n",
      " [ 9 16]]\n",
      "[[1 0]\n",
      " [0 1]]\n",
      "[[ 7 10]\n",
      " [15 22]]\n",
      "[[ 37  54]\n",
      " [ 81 118]]\n"
     ]
    }
   ],
   "source": [
    "# 제곱\n",
    "A = np.array([[1,2],[3,4]])\n",
    "\n",
    "print(A**2)\n",
    "print(np.linalg.matrix_power(A, 0))\n",
    "print(np.linalg.matrix_power(A, 2))\n",
    "print(np.linalg.matrix_power(A, 3))"
   ]
  },
  {
   "cell_type": "code",
   "execution_count": 7,
   "id": "c15eec78",
   "metadata": {},
   "outputs": [
    {
     "data": {
      "text/plain": [
       "array([[ 0.3,  0.4],\n",
       "       [ 0.1, -0.2]])"
      ]
     },
     "execution_count": 7,
     "metadata": {},
     "output_type": "execute_result"
    }
   ],
   "source": [
    "# 가역\n",
    "A = np.array([[2,-3],[1,7]])\n",
    "B = np.array([[2,4],[1,-3]])\n",
    "\n",
    "np.linalg.inv(A)\n",
    "np.linalg.inv(B)"
   ]
  },
  {
   "cell_type": "code",
   "execution_count": 8,
   "id": "10eb0954",
   "metadata": {},
   "outputs": [
    {
     "ename": "LinAlgError",
     "evalue": "Singular matrix",
     "output_type": "error",
     "traceback": [
      "\u001b[1;31m---------------------------------------------------------------------------\u001b[0m",
      "\u001b[1;31mLinAlgError\u001b[0m                               Traceback (most recent call last)",
      "Input \u001b[1;32mIn [8]\u001b[0m, in \u001b[0;36m<cell line: 4>\u001b[1;34m()\u001b[0m\n\u001b[0;32m      1\u001b[0m \u001b[38;5;66;03m# 비가역\u001b[39;00m\n\u001b[0;32m      2\u001b[0m C \u001b[38;5;241m=\u001b[39m np\u001b[38;5;241m.\u001b[39marray([[\u001b[38;5;241m2\u001b[39m,\u001b[38;5;241m4\u001b[39m],[\u001b[38;5;241m1\u001b[39m,\u001b[38;5;241m2\u001b[39m]])\n\u001b[1;32m----> 4\u001b[0m \u001b[43mnp\u001b[49m\u001b[38;5;241;43m.\u001b[39;49m\u001b[43mlinalg\u001b[49m\u001b[38;5;241;43m.\u001b[39;49m\u001b[43minv\u001b[49m\u001b[43m(\u001b[49m\u001b[43mC\u001b[49m\u001b[43m)\u001b[49m\n",
      "File \u001b[1;32m<__array_function__ internals>:5\u001b[0m, in \u001b[0;36minv\u001b[1;34m(*args, **kwargs)\u001b[0m\n",
      "File \u001b[1;32m~\\anaconda3\\lib\\site-packages\\numpy\\linalg\\linalg.py:545\u001b[0m, in \u001b[0;36minv\u001b[1;34m(a)\u001b[0m\n\u001b[0;32m    543\u001b[0m signature \u001b[38;5;241m=\u001b[39m \u001b[38;5;124m'\u001b[39m\u001b[38;5;124mD->D\u001b[39m\u001b[38;5;124m'\u001b[39m \u001b[38;5;28;01mif\u001b[39;00m isComplexType(t) \u001b[38;5;28;01melse\u001b[39;00m \u001b[38;5;124m'\u001b[39m\u001b[38;5;124md->d\u001b[39m\u001b[38;5;124m'\u001b[39m\n\u001b[0;32m    544\u001b[0m extobj \u001b[38;5;241m=\u001b[39m get_linalg_error_extobj(_raise_linalgerror_singular)\n\u001b[1;32m--> 545\u001b[0m ainv \u001b[38;5;241m=\u001b[39m \u001b[43m_umath_linalg\u001b[49m\u001b[38;5;241;43m.\u001b[39;49m\u001b[43minv\u001b[49m\u001b[43m(\u001b[49m\u001b[43ma\u001b[49m\u001b[43m,\u001b[49m\u001b[43m \u001b[49m\u001b[43msignature\u001b[49m\u001b[38;5;241;43m=\u001b[39;49m\u001b[43msignature\u001b[49m\u001b[43m,\u001b[49m\u001b[43m \u001b[49m\u001b[43mextobj\u001b[49m\u001b[38;5;241;43m=\u001b[39;49m\u001b[43mextobj\u001b[49m\u001b[43m)\u001b[49m\n\u001b[0;32m    546\u001b[0m \u001b[38;5;28;01mreturn\u001b[39;00m wrap(ainv\u001b[38;5;241m.\u001b[39mastype(result_t, copy\u001b[38;5;241m=\u001b[39m\u001b[38;5;28;01mFalse\u001b[39;00m))\n",
      "File \u001b[1;32m~\\anaconda3\\lib\\site-packages\\numpy\\linalg\\linalg.py:88\u001b[0m, in \u001b[0;36m_raise_linalgerror_singular\u001b[1;34m(err, flag)\u001b[0m\n\u001b[0;32m     87\u001b[0m \u001b[38;5;28;01mdef\u001b[39;00m \u001b[38;5;21m_raise_linalgerror_singular\u001b[39m(err, flag):\n\u001b[1;32m---> 88\u001b[0m     \u001b[38;5;28;01mraise\u001b[39;00m LinAlgError(\u001b[38;5;124m\"\u001b[39m\u001b[38;5;124mSingular matrix\u001b[39m\u001b[38;5;124m\"\u001b[39m)\n",
      "\u001b[1;31mLinAlgError\u001b[0m: Singular matrix"
     ]
    }
   ],
   "source": [
    "# 비가역\n",
    "C = np.array([[2,4],[1,2]])\n",
    "\n",
    "np.linalg.inv(C)"
   ]
  },
  {
   "cell_type": "code",
   "execution_count": 9,
   "id": "7237bd9e",
   "metadata": {},
   "outputs": [
    {
     "data": {
      "text/plain": [
       "array([[2, 5],\n",
       "       [4, 7],\n",
       "       [1, 2]])"
      ]
     },
     "execution_count": 9,
     "metadata": {},
     "output_type": "execute_result"
    }
   ],
   "source": [
    "# 전치\n",
    "A = np.array([[2,4,1],[5,7,2]])\n",
    "\n",
    "A.transpose()"
   ]
  },
  {
   "cell_type": "code",
   "execution_count": 10,
   "id": "f967bc3d",
   "metadata": {},
   "outputs": [
    {
     "name": "stdout",
     "output_type": "stream",
     "text": [
      "[[  1.   0.   0.   0.]\n",
      " [  0.   1.   0.   0.]\n",
      " [ 36.  48.  25.   0.]\n",
      " [-42.  54.   0.  25.]]\n",
      "[[   1.    0.    0.    0.]\n",
      " [   0.    1.    0.    0.]\n",
      " [ 186.  248.  125.    0.]\n",
      " [-217.  279.    0.  125.]]\n"
     ]
    }
   ],
   "source": [
    "# 블록\n",
    "A11 = np.eye(2)\n",
    "A12 = np.zeros((2,2))\n",
    "A21 = np.array([[6,8],[-7,9]])\n",
    "A22 = 5 * np.eye(2)\n",
    "\n",
    "A = np.block([[A11, A12], [A21, A22]])\n",
    "\n",
    "print(np.linalg.matrix_power(A, 2))\n",
    "print(np.linalg.matrix_power(A, 3))"
   ]
  },
  {
   "cell_type": "code",
   "execution_count": null,
   "id": "21358d4e",
   "metadata": {},
   "outputs": [],
   "source": []
  }
 ],
 "metadata": {
  "kernelspec": {
   "display_name": "Python 3 (ipykernel)",
   "language": "python",
   "name": "python3"
  },
  "language_info": {
   "codemirror_mode": {
    "name": "ipython",
    "version": 3
   },
   "file_extension": ".py",
   "mimetype": "text/x-python",
   "name": "python",
   "nbconvert_exporter": "python",
   "pygments_lexer": "ipython3",
   "version": "3.9.12"
  }
 },
 "nbformat": 4,
 "nbformat_minor": 5
}
